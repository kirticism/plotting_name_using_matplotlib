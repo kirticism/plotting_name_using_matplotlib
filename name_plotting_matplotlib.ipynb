{
  "nbformat": 4,
  "nbformat_minor": 0,
  "metadata": {
    "colab": {
      "name": "name_plotting_matplotlib",
      "provenance": [],
      "authorship_tag": "ABX9TyN0brMc3lvuhQDev5ZT2sWQ",
      "include_colab_link": true
    },
    "kernelspec": {
      "name": "python3",
      "display_name": "Python 3"
    },
    "language_info": {
      "name": "python"
    }
  },
  "cells": [
    {
      "cell_type": "markdown",
      "metadata": {
        "id": "view-in-github",
        "colab_type": "text"
      },
      "source": [
        "<a href=\"https://colab.research.google.com/github/kirticism/plotting_name_using_matplotlib/blob/main/name_plotting_matplotlib.ipynb\" target=\"_parent\"><img src=\"https://colab.research.google.com/assets/colab-badge.svg\" alt=\"Open In Colab\"/></a>"
      ]
    },
    {
      "cell_type": "code",
      "execution_count": null,
      "metadata": {
        "colab": {
          "base_uri": "https://localhost:8080/",
          "height": 295
        },
        "id": "DN9sf3AVMiRT",
        "outputId": "ba98a958-d331-44ee-e629-7817b1384218"
      },
      "outputs": [
        {
          "output_type": "display_data",
          "data": {
            "text/plain": [
              "<Figure size 432x288 with 1 Axes>"
            ],
            "image/png": "[encoded data removed]"
          },
          "metadata": {
            "needs_background": "light"
          }
        }
      ],
      "source": [
        "import matplotlib.pyplot as plt \n",
        "\n",
        "plt.xlim(0,100)\n",
        "plt.ylim(0,100)\n",
        "# line 1 points \n",
        "x1 = [10,10,10] \n",
        "y1 = [10,20,30] \n",
        "# plotting the line 1 points \n",
        "plt.plot(x1, y1, label = \"line 1\") \n",
        "\n",
        "# line 2 points \n",
        "x2 = [20,10,20] \n",
        "y2 = [30,20,10] \n",
        "# plotting the line 2 points \n",
        "plt.plot(x2, y2, label = \"line 2\")  \n",
        "\n",
        "# line 3 points \n",
        "x3 = [30,30,30] \n",
        "y3 = [30,20,10] \n",
        "# plotting the line 3 points \n",
        "plt.plot(x3, y3, label = \"line 3\") \n",
        "\n",
        "# line 4 points \n",
        "x4 = [25,30,35] \n",
        "y4 = [30,30,30] \n",
        "# plotting the line 4 points \n",
        "plt.plot(x4, y4, label = \"line 4\") \n",
        "\n",
        "# line 5 points \n",
        "x5 = [25,30,35] \n",
        "y5 = [10,10,10] \n",
        "# plotting the line 5 points \n",
        "plt.plot(x5, y5, label = \"line 5\") \n",
        "\n",
        "x6 = [40,40,40] \n",
        "y6 = [10,20,30] \n",
        "# plotting the line 6 points \n",
        "plt.plot(x6, y6, label = \"line 6\") \n",
        "\n",
        "x7 = [50,40,50] \n",
        "y7 = [30,20,10] \n",
        "# plotting the line 7 points \n",
        "plt.plot(x7, y7, label = \"line 7\") \n",
        "\n",
        "x8 = [40,45,50] \n",
        "y8 = [30,30,30] \n",
        "# plotting the line 8 points \n",
        "plt.plot(x8, y8, label = \"line 8\", color = 'green')\n",
        "\n",
        "x9 = [55,60,65] \n",
        "y9 = [30,30,30] \n",
        "# plotting the line 9 points \n",
        "plt.plot(x9, y9, label = \"line 9\")\n",
        "\n",
        "x10 = [60,60,60] \n",
        "y10 = [10,20,30] \n",
        "# plotting the line 10 points \n",
        "plt.plot(x10, y10)\n",
        "\n",
        "x11 = [75,75,75] \n",
        "y11 = [30,20,10] \n",
        "# plotting the line 11 points \n",
        "plt.plot(x11, y11,) \n",
        "\n",
        "x12 = [70,75,80] \n",
        "y12 = [30,30,30] \n",
        "# plotting the line 12 points \n",
        "plt.plot(x12, y12) \n",
        "\n",
        "x13 = [70,75,80] \n",
        "y13 = [10,10,10] \n",
        "# plotting the line 13 points \n",
        "plt.plot(x13, y13)\n",
        "\n",
        "# naming the x axis \n",
        "plt.xlabel('x - axis') \n",
        "# naming the y axis \n",
        "plt.ylabel('y - axis') \n",
        "# giving a title to my graph \n",
        "plt.title('name plotting') \n",
        "\n",
        "# show a legend on the plot \n",
        "plt.legend() \n",
        "\n",
        "# function to show the plot \n",
        "plt.show()"
      ]
    }
  ]
}